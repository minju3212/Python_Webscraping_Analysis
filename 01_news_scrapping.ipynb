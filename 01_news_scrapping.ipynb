{
 "cells": [
  {
   "cell_type": "markdown",
   "id": "d72e97f2",
   "metadata": {},
   "source": [
    "### 1. url에서 뉴스 기사의 링크와 제목을 출력하기"
   ]
  },
  {
   "cell_type": "code",
   "execution_count": 3,
   "id": "c04436b8",
   "metadata": {},
   "outputs": [],
   "source": [
    "import requests\n",
    "import bs4\n",
    "from bs4 import BeautifulSoup"
   ]
  },
  {
   "cell_type": "code",
   "execution_count": 9,
   "id": "8c6fc96d",
   "metadata": {},
   "outputs": [
    {
     "name": "stdout",
     "output_type": "stream",
     "text": [
      "https://news.daum.net/economy\n",
      "<class 'requests.models.Response'>\n",
      "200\n",
      "<class 'bs4.element.ResultSet'>\n",
      "https://v.daum.net/v/20250408172845794\n",
      "[ì´ìON] ë§ìí ë°ê³  'ì¤ ì ì¹' ì´ìê· í¬ì...íëìë ì?\n",
      "https://v.daum.net/v/20250408171205288\n",
      "ì´ë¬ë¤ ì§ì§ ì ì...í¸ë¼í '104% ê´ì¸'ì ëê¹ì§ ì¸ì´ë¤ë ä¸­ [ë°ì¼ë¦¬ ììì]\n",
      "https://v.daum.net/v/20250408161553109\n",
      "í¸ë¼íë° ì£¼ê°í­ë½ì ëì \"ê²½ì ì  íµì ì\" ì¡°ì  \"ê¸ìµìê¸° í ìµì\"\n",
      "https://v.daum.net/v/20250408160526681\n",
      "ê³µí©ê³¼ ê²©ë³ì íëë¼ ë°ì¤ê° ì´ë¦¬ë¤\n",
      "https://v.daum.net/v/20250408154329660\n",
      "í´ì¸ì ë° ëº ì´ì¤í­ì²´, é ê¸°ìë¤ì´ ì´ëë¤\n",
      "https://v.daum.net/v/20250408153003030\n",
      "ííµ ëë¬ëë° éê²½ì  âë´âì ì¸ì  ì¤ëâ¦ë°ê·¼í ëì ë¤ë¥¸ ì´ì \n",
      "https://v.daum.net/v/20250408152923007\n",
      "ê²½ììì§ íìíì§ìëâ¦ íì âç¾ ê´ì¸ì ë¶íì¤ì± íëâ\n",
      "https://v.daum.net/v/20250408144527816\n",
      "êµ­ì ì ê° íë½ì íë¤ë¦¬ë ì ì ìê³â¦ì¤ì  ë¨¹êµ¬ë¦ ì§ì´ì§ë¤\n",
      "https://v.daum.net/v/20250408140753767\n",
      "ì¡°ìí¸ íì§ê·¸ë£¹ ì ëíì¥ 6ì£¼ê¸°â¦ â45ë í­ê³µì°ìâ ë¦¬ëì­ ì¬ì¡°ëª\n"
     ]
    }
   ],
   "source": [
    "url = 'https://news.daum.net/economy'\n",
    "print(url)\n",
    "\n",
    "req_header = {\n",
    "    'user-agent' : 'Mozilla/5.0 (Windows NT 10.0; Win64; x64) AppleWebKit/537.36 (KHTML, like Gecko) Chrome/135.0.0.0 Safari/537.36'\n",
    "}\n",
    "\n",
    "res = requests.get(url, headers=req_header)\n",
    "print(type(res))\n",
    "print(res.status_code)\n",
    "\n",
    "if res.ok:\n",
    "    html = res.text\n",
    "    soup = BeautifulSoup(html, 'html.parser')\n",
    "    li_tag_list = soup.select(\"ul.list_newsheadline2 li\")\n",
    "    print(type(li_tag_list))\n",
    "    for li_tag in li_tag_list:\n",
    "        a_tag = li_tag.find('a')\n",
    "        link = a_tag['href']\n",
    "        print(link)\n",
    "        strong_tag = li_tag.select_one('div.cont_thumb strong.tit_txt')\n",
    "        title = strong_tag.text\n",
    "        print(title)\n",
    "    \n",
    "else:\n",
    "    print(f'Error code = {res.status_code}')"
   ]
  }
 ],
 "metadata": {
  "kernelspec": {
   "display_name": "base",
   "language": "python",
   "name": "python3"
  },
  "language_info": {
   "codemirror_mode": {
    "name": "ipython",
    "version": 3
   },
   "file_extension": ".py",
   "mimetype": "text/x-python",
   "name": "python",
   "nbconvert_exporter": "python",
   "pygments_lexer": "ipython3",
   "version": "3.12.7"
  }
 },
 "nbformat": 4,
 "nbformat_minor": 5
}
