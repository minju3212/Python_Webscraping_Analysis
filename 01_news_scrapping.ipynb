{
 "cells": [
  {
   "cell_type": "markdown",
   "id": "d72e97f2",
   "metadata": {},
   "source": [
    "### 1. url에서 뉴스 기사의 링크와 제목을 출력하기"
   ]
  },
  {
   "cell_type": "code",
   "execution_count": 3,
   "id": "c04436b8",
   "metadata": {},
   "outputs": [],
   "source": [
    "import requests\n",
    "import bs4\n",
    "from bs4 import BeautifulSoup"
   ]
  },
  {
   "cell_type": "code",
   "execution_count": 10,
   "id": "8c6fc96d",
   "metadata": {},
   "outputs": [
    {
     "name": "stdout",
     "output_type": "stream",
     "text": [
      "https://news.daum.net/economy\n",
      "<class 'requests.models.Response'>\n",
      "200\n",
      "<class 'bs4.element.ResultSet'>\n",
      "https://v.daum.net/v/20250408173713085\n",
      "칩 확보서 데이터센터까지···전 산업에 'AI 고속도로' 깔아야\n",
      "https://v.daum.net/v/20250408173626057\n",
      "77년 묵은 정부조직, 데이터 중심 대수술···'AI 부총리' 도입을\n",
      "https://v.daum.net/v/20250408172845794\n",
      "[이슈ON] 마은혁 받고 '윤 절친' 이완규 투입...한덕수는 왜?\n",
      "https://v.daum.net/v/20250408161553109\n",
      "트럼프발 주가폭락에 동아 \"경제적 핵전쟁\" 조선 \"금융위기 후 최악\"\n",
      "https://v.daum.net/v/20250408160526681\n",
      "공황과 격변의 판도라 박스가 열리다\n",
      "https://v.daum.net/v/20250408154329660\n",
      "해외서 발 뺀 이중항체, 韓 기업들이 이끈다\n",
      "https://v.daum.net/v/20250408153003030\n",
      "탄핵 끝났는데 韓경제 ‘봄’은 언제 오나…박근혜 때와 다른 이유\n",
      "https://v.daum.net/v/20250408152923007\n",
      "경상수지 흑자행진에도… 한은 “美 관세에 불확실성 확대”\n",
      "https://v.daum.net/v/20250408144527816\n",
      "국제유가 하락에 흔들리는 정유업계…실적 먹구름 짙어진다\n"
     ]
    }
   ],
   "source": [
    "url = 'https://news.daum.net/economy'\n",
    "print(url)\n",
    "\n",
    "req_header = {\n",
    "    'user-agent' : 'Mozilla/5.0 (Windows NT 10.0; Win64; x64) AppleWebKit/537.36 (KHTML, like Gecko) Chrome/135.0.0.0 Safari/537.36'\n",
    "}\n",
    "\n",
    "res = requests.get(url, headers=req_header)\n",
    "res.encoding = 'utf-8'\n",
    "print(type(res))\n",
    "print(res.status_code)\n",
    "\n",
    "if res.ok:\n",
    "    html = res.text\n",
    "    soup = BeautifulSoup(html, 'html.parser')\n",
    "    li_tag_list = soup.select(\"ul.list_newsheadline2 li\")\n",
    "    print(type(li_tag_list))\n",
    "    for li_tag in li_tag_list:\n",
    "        a_tag = li_tag.find('a')\n",
    "        link = a_tag['href']\n",
    "        print(link)\n",
    "        strong_tag = li_tag.select_one('div.cont_thumb strong.tit_txt')\n",
    "        title = strong_tag.text\n",
    "        print(title)\n",
    "    \n",
    "else:\n",
    "    print(f'Error code = {res.status_code}')"
   ]
  }
 ],
 "metadata": {
  "kernelspec": {
   "display_name": "base",
   "language": "python",
   "name": "python3"
  },
  "language_info": {
   "codemirror_mode": {
    "name": "ipython",
    "version": 3
   },
   "file_extension": ".py",
   "mimetype": "text/x-python",
   "name": "python",
   "nbconvert_exporter": "python",
   "pygments_lexer": "ipython3",
   "version": "3.12.7"
  }
 },
 "nbformat": 4,
 "nbformat_minor": 5
}
