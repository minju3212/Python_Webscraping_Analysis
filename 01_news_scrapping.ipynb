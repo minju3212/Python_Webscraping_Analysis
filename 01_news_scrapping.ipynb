{
 "cells": [
  {
   "cell_type": "markdown",
   "id": "d72e97f2",
   "metadata": {},
   "source": [
    "### 1-1. url에서 뉴스 기사의 링크와 제목을 출력하기"
   ]
  },
  {
   "cell_type": "code",
   "execution_count": 2,
   "id": "8c6fc96d",
   "metadata": {},
   "outputs": [
    {
     "name": "stdout",
     "output_type": "stream",
     "text": [
      "https://news.daum.net/economy\n",
      "<class 'requests.models.Response'>\n",
      "200\n",
      "<class 'bs4.element.ResultSet'>\n",
      "https://v.daum.net/v/20250409220327565\n",
      "[D리포트] \"이런 게 논란이 된다는 게 놀랍다\" 무안공항 제주항공 참사 처리 왜 신뢰 얻지 못하나\n",
      "https://v.daum.net/v/20250409210315562\n",
      "‘탈한국’ 열차에 왜 올라탔을까 [텅 비어가는 K제조업]\n",
      "https://v.daum.net/v/20250409210301549\n",
      "‘스마트팩토리’·리쇼어링…K제조업 재도약의 조건\n",
      "https://v.daum.net/v/20250409195246181\n",
      "수요 침체서 겨우 살아나나 싶었는데…IT도 미국발 침체 우려(종합)\n",
      "https://v.daum.net/v/20250409191619350\n",
      "혈세 1390억원 쓰는 대통령경호처는 누구를 경호했나 [視리즈]\n",
      "https://v.daum.net/v/20250409190509044\n",
      "트럼프의 책사 “관세, 미국이 제공하는 안보·무역체제의 대가”\n",
      "https://v.daum.net/v/20250409185802873\n",
      "12조 빚 몰린 스트래티지…결국 비트코인 매도 카드 꺼내나\n",
      "https://v.daum.net/v/20250409182340171\n",
      "아워홈 용인공장 근로자 사망…M&A 갈등 사이 안전책임자는 '공석' [한양경제]\n",
      "https://v.daum.net/v/20250409182115106\n",
      "트럼프 보란듯 뭉친 한중일… 경제블록화로 위기 넘을까 [통상 컨트롤타워가 없다 (3)]\n"
     ]
    }
   ],
   "source": [
    "import requests\n",
    "import bs4\n",
    "from bs4 import BeautifulSoup\n",
    "\n",
    "url = 'https://news.daum.net/economy'\n",
    "print(url)\n",
    "\n",
    "req_header = {\n",
    "    'user-agent' : 'Mozilla/5.0 (Windows NT 10.0; Win64; x64) AppleWebKit/537.36 (KHTML, like Gecko) Chrome/135.0.0.0 Safari/537.36'\n",
    "}\n",
    "\n",
    "res = requests.get(url, headers=req_header)\n",
    "res.encoding = 'utf-8'\n",
    "print(type(res))\n",
    "print(res.status_code)\n",
    "\n",
    "if res.ok:\n",
    "    html = res.text\n",
    "    soup = BeautifulSoup(html, 'html.parser')\n",
    "    li_tag_list = soup.select(\"ul.list_newsheadline2 li\")\n",
    "    print(type(li_tag_list))\n",
    "    for li_tag in li_tag_list:\n",
    "        a_tag = li_tag.find('a')\n",
    "        link = a_tag['href']\n",
    "        print(link)\n",
    "        \n",
    "        # select() => ResultSet, select_one() => Tag\n",
    "        strong_tag = li_tag.select_one('div.cont_thumb strong.tit_txt')\n",
    "        # 위의 방법이 안된다면 밑의 방법도 가능능\n",
    "        # strong_tags = li_tag.select('div.cont_thumb strong.tit_txt')\n",
    "        # if strong_tags:\n",
    "        #     strong_tag = strong_tags[0]\n",
    "            \n",
    "        title = strong_tag.text.strip()\n",
    "        print(title)\n",
    "    \n",
    "else:\n",
    "    print(f'Error code = {res.status_code}')"
   ]
  },
  {
   "cell_type": "markdown",
   "id": "ac5318a7",
   "metadata": {},
   "source": [
    "### 1-2. 여러 개의 section 중 하나를 선택해서 url에서 뉴스 기사의 링크와 제목을 출력하는 코드를 함수로 작성하기"
   ]
  },
  {
   "cell_type": "code",
   "execution_count": 1,
   "id": "545d5bef",
   "metadata": {},
   "outputs": [
    {
     "name": "stdout",
     "output_type": "stream",
     "text": [
      "요청하신 Key가 없습니다.\n",
      "=====> https://news.daum.net/economy 경제 뉴스 <=====\n",
      "https://v.daum.net/v/20250409220327565\n",
      "[D리포트] \"이런 게 논란이 된다는 게 놀랍다\" 무안공항 제주항공 참사 처리 왜 신뢰 얻지 못하나\n",
      "https://v.daum.net/v/20250409210315562\n",
      "‘탈한국’ 열차에 왜 올라탔을까 [텅 비어가는 K제조업]\n",
      "https://v.daum.net/v/20250409210301549\n",
      "‘스마트팩토리’·리쇼어링…K제조업 재도약의 조건\n",
      "https://v.daum.net/v/20250409195246181\n",
      "수요 침체서 겨우 살아나나 싶었는데…IT도 미국발 침체 우려(종합)\n",
      "https://v.daum.net/v/20250409191619350\n",
      "혈세 1390억원 쓰는 대통령경호처는 누구를 경호했나 [視리즈]\n",
      "https://v.daum.net/v/20250409190509044\n",
      "트럼프의 책사 “관세, 미국이 제공하는 안보·무역체제의 대가”\n",
      "https://v.daum.net/v/20250409185802873\n",
      "12조 빚 몰린 스트래티지…결국 비트코인 매도 카드 꺼내나\n",
      "https://v.daum.net/v/20250409182340171\n",
      "아워홈 용인공장 근로자 사망…M&A 갈등 사이 안전책임자는 '공석' [한양경제]\n",
      "https://v.daum.net/v/20250409182115106\n",
      "트럼프 보란듯 뭉친 한중일… 경제블록화로 위기 넘을까 [통상 컨트롤타워가 없다 (3)]\n",
      "=====> https://news.daum.net/society 사회 뉴스 <=====\n",
      "https://v.daum.net/v/20250409220004507\n",
      "AI교과서 도입 한달…‘회원 가입’조차 못한 학생 10명 중 4명\n",
      "https://v.daum.net/v/20250409215219358\n",
      "[뉴스인] 기회발전특구 추진…김덕현 연천군수 대담\n",
      "https://v.daum.net/v/20250409205802436\n",
      "시민사회, 개헌에 '신중론'…\"필요성 공감하나 졸속 추진 피해야\"\n",
      "https://v.daum.net/v/20250409205717423\n",
      "[단독] 신상 넘기자 돌변했다…얼굴 없는 그의 유혹 (풀영상)\n",
      "https://v.daum.net/v/20250409205407345\n",
      "[단독] 돈 꾸려다 빚더미…신상 넘기자 \"장기 적출될래?\"\n",
      "https://v.daum.net/v/20250409204614224\n",
      "산불에 산사태 위험 2백 배 커지는데‥산사태 위험지도는 그대로?\n",
      "https://v.daum.net/v/20250409203913095\n",
      "[밀착카메라] \"하늘에서 신혼생활 잘하고 있지?\" 유족이 버텨온 100일의 시간\n",
      "https://v.daum.net/v/20250409200156399\n",
      "“거제 조선소, 청년채용 늘려야…민생경제 회복 최선”\n",
      "https://v.daum.net/v/20250409195537237\n",
      "[이슈대담] 3년 만에 시정 복귀…변광용 거제시장에게 듣는다\n"
     ]
    }
   ],
   "source": [
    "import requests\n",
    "import bs4\n",
    "from bs4 import BeautifulSoup\n",
    "\n",
    "section_dict = {\n",
    "    '기후/환경': 'climate',\n",
    "    '사회': 'society',\n",
    "    '경제': 'economy',\n",
    "    '정치': 'politics',\n",
    "    '국제': 'world',\n",
    "    '문화': 'culture',\n",
    "    '생활': 'life',\n",
    "    'IT/과학':'tech',\n",
    "    '인물':'people'\n",
    "}\n",
    "\n",
    "def print_news(name):\n",
    "    #section = section_dict[name]\n",
    "    section = section_dict.get(name)\n",
    "    if section is None:\n",
    "        print('요청하신 Key가 없습니다.')\n",
    "    else:\n",
    "        \n",
    "        url = f\"https://news.daum.net/{section}\"\n",
    "        print(f'=====> {url} {name} 뉴스 <=====')\n",
    "        \n",
    "        req_header = {\n",
    "            'user-agent' : 'Mozilla/5.0 (Windows NT 10.0; Win64; x64) AppleWebKit/537.36 (KHTML, like Gecko) Chrome/135.0.0.0 Safari/537.36'\n",
    "        }\n",
    "\n",
    "        res = requests.get(url, headers=req_header)\n",
    "        res.encoding = 'utf-8'\n",
    "        \n",
    "        if res.ok:\n",
    "            html = res.text\n",
    "            soup = BeautifulSoup(html, 'html.parser')\n",
    "            li_tag_list = soup.select(\"ul.list_newsheadline2 li\")\n",
    "            for li_tag in li_tag_list:\n",
    "                a_tag = li_tag.find('a')\n",
    "                link = a_tag['href']\n",
    "                print(link)\n",
    "                \n",
    "                # select() => ResultSet, select_one() => Tag\n",
    "                strong_tag = li_tag.select_one('div.cont_thumb strong.tit_txt')\n",
    "                # 위의 방법이 안된다면 밑의 방법도 가능\n",
    "                # strong_tags = li_tag.select('div.cont_thumb strong.tit_txt')\n",
    "                # if strong_tags:\n",
    "                #     strong_tag = strong_tags[0]\n",
    "                \n",
    "                title = strong_tag.text.strip()\n",
    "                print(title)\n",
    "            \n",
    "        else:\n",
    "            print(f'Error code = {res.status_code}')\n",
    "        \n",
    "print_news('경제2')\n",
    "print_news('경제')\n",
    "print_news('사회')"
   ]
  },
  {
   "cell_type": "markdown",
   "id": "3962920e",
   "metadata": {},
   "source": [
    "### 2-1 NATE 뉴스 기사 제목 스크래핑 하기"
   ]
  },
  {
   "cell_type": "code",
   "execution_count": null,
   "id": "bdf50284",
   "metadata": {},
   "outputs": [
    {
     "name": "stdout",
     "output_type": "stream",
     "text": [
      "=====> https://news.nate.com/section?mid=n0300 경제 뉴스 <=====\n"
     ]
    },
    {
     "data": {
      "image/jpeg": "[encoded data removed]",
      "text/plain": [
       "<IPython.core.display.Image object>"
      ]
     },
     "metadata": {},
     "output_type": "display_data"
    },
    {
     "name": "stdout",
     "output_type": "stream",
     "text": [
      "기사 제목: 억만장자 비밀모임에 韓 3대그룹 총수 초청\n",
      "기사 링크:https://news.nate.com/view/20250409n34756?mid=n0300\n"
     ]
    },
    {
     "data": {
      "image/jpeg": "[encoded data removed]",
      "text/plain": [
       "<IPython.core.display.Image object>"
      ]
     },
     "metadata": {},
     "output_type": "display_data"
    },
    {
     "name": "stdout",
     "output_type": "stream",
     "text": [
      "기사 제목: \"지난달에도 네번 시켰네\"…한국인들, 매달 10만원 '여기'에 쓴다\n",
      "기사 링크:https://news.nate.com/view/20250409n28495?mid=n0300\n"
     ]
    },
    {
     "data": {
      "image/jpeg": "[encoded data removed]",
      "text/plain": [
       "<IPython.core.display.Image object>"
      ]
     },
     "metadata": {},
     "output_type": "display_data"
    },
    {
     "name": "stdout",
     "output_type": "stream",
     "text": [
      "기사 제목: 1,500원대 환율 '뉴노멀' 되나…관세전쟁 충격에 \"천장 열렸다\"(종합)\n",
      "기사 링크:https://news.nate.com/view/20250409n28823?mid=n0300\n"
     ]
    },
    {
     "data": {
      "image/jpeg": "[encoded data removed]",
      "text/plain": [
       "<IPython.core.display.Image object>"
      ]
     },
     "metadata": {},
     "output_type": "display_data"
    },
    {
     "name": "stdout",
     "output_type": "stream",
     "text": [
      "기사 제목: 알래스카 가스개발, 경제성 있다?…LNG·조선 협상 카드 구체화하나\n",
      "기사 링크:https://news.nate.com/view/20250409n28527?mid=n0300\n"
     ]
    },
    {
     "data": {
      "image/jpeg": "[encoded data removed]",
      "text/plain": [
       "<IPython.core.display.Image object>"
      ]
     },
     "metadata": {},
     "output_type": "display_data"
    },
    {
     "name": "stdout",
     "output_type": "stream",
     "text": [
      "기사 제목: \"7년째 적자\" 현대免, 근속 만 3년 이상 직원 희망퇴직 단행\n",
      "기사 링크:https://news.nate.com/view/20250409n27696?mid=n0300\n"
     ]
    },
    {
     "data": {
      "image/jpeg": "[encoded data removed]",
      "text/plain": [
       "<IPython.core.display.Image object>"
      ]
     },
     "metadata": {},
     "output_type": "display_data"
    },
    {
     "name": "stdout",
     "output_type": "stream",
     "text": [
      "기사 제목: 미 상호관세 발효되자 코스피 2300선 붕괴…환율 1500원 '초읽기'\n",
      "기사 링크:https://news.nate.com/view/20250409n22190?mid=n0300\n"
     ]
    },
    {
     "data": {
      "image/jpeg": "[encoded data removed]",
      "text/plain": [
       "<IPython.core.display.Image object>"
      ]
     },
     "metadata": {},
     "output_type": "display_data"
    },
    {
     "name": "stdout",
     "output_type": "stream",
     "text": [
      "기사 제목: 주요 은행장 \"기업 대출 위험 낮추고, 가상자산 거래 협업 확대 필요\"\n",
      "기사 링크:https://news.nate.com/view/20250409n22812?mid=n0300\n"
     ]
    },
    {
     "data": {
      "image/jpeg": "[encoded data removed]",
      "text/plain": [
       "<IPython.core.display.Image object>"
      ]
     },
     "metadata": {},
     "output_type": "display_data"
    },
    {
     "name": "stdout",
     "output_type": "stream",
     "text": [
      "기사 제목: '자영업자 폐업 속출'에 새출발기금 신청자 12만명 육박\n",
      "기사 링크:https://news.nate.com/view/20250409n22258?mid=n0300\n"
     ]
    },
    {
     "data": {
      "image/jpeg": "[encoded data removed]",
      "text/plain": [
       "<IPython.core.display.Image object>"
      ]
     },
     "metadata": {},
     "output_type": "display_data"
    },
    {
     "name": "stdout",
     "output_type": "stream",
     "text": [
      "기사 제목: 금융당국 \"이달 가계대출 분수령…토허제 풍선효과 면밀 점검\"\n",
      "기사 링크:https://news.nate.com/view/20250409n18135?mid=n0300\n"
     ]
    },
    {
     "data": {
      "image/jpeg": "[encoded data removed]",
      "text/plain": [
       "<IPython.core.display.Image object>"
      ]
     },
     "metadata": {},
     "output_type": "display_data"
    },
    {
     "name": "stdout",
     "output_type": "stream",
     "text": [
      "기사 제목: \"입금 먼저\"vs\"못 믿겠다\"…홈플러스, 이번엔 입점업체와 기싸움\n",
      "기사 링크:https://news.nate.com/view/20250409n12981?mid=n0300\n"
     ]
    },
    {
     "data": {
      "image/jpeg": "[encoded data removed]",
      "text/plain": [
       "<IPython.core.display.Image object>"
      ]
     },
     "metadata": {},
     "output_type": "display_data"
    },
    {
     "name": "stdout",
     "output_type": "stream",
     "text": [
      "기사 제목: \"서울 집값, 당분간 관망세…대선 이후 강남·용산 등 오른다\"\n",
      "기사 링크:https://news.nate.com/view/20250409n01699?mid=n0300\n"
     ]
    },
    {
     "data": {
      "image/png": "[encoded data removed]",
      "text/plain": [
       "<IPython.core.display.Image object>"
      ]
     },
     "metadata": {},
     "output_type": "display_data"
    },
    {
     "name": "stdout",
     "output_type": "stream",
     "text": [
      "기사 제목: \"우리는 못 받는거 아냐?\" 시한부 국민연금…이것 도입땐 16년 수명연장\n",
      "기사 링크:https://news.nate.com/view/20250409n02718?mid=n0300\n"
     ]
    },
    {
     "data": {
      "image/jpeg": "[encoded data removed]",
      "text/plain": [
       "<IPython.core.display.Image object>"
      ]
     },
     "metadata": {},
     "output_type": "display_data"
    },
    {
     "name": "stdout",
     "output_type": "stream",
     "text": [
      "기사 제목: 3월 취업자 19.3만명↑…청년 고용률 4년만에 최저, '쉬었음' 역대 최대(종합)\n",
      "기사 링크:https://news.nate.com/view/20250409n07454?mid=n0300\n"
     ]
    },
    {
     "data": {
      "image/jpeg": "[encoded data removed]",
      "text/plain": [
       "<IPython.core.display.Image object>"
      ]
     },
     "metadata": {},
     "output_type": "display_data"
    },
    {
     "name": "stdout",
     "output_type": "stream",
     "text": [
      "기사 제목: [단독] 도리토스보다 4배 비싼 '김 과자'…\"다 망할 판\" 탄식\n",
      "기사 링크:https://news.nate.com/view/20250409n03870?mid=n0300\n"
     ]
    },
    {
     "data": {
      "image/jpeg": "[encoded data removed]",
      "text/plain": [
       "<IPython.core.display.Image object>"
      ]
     },
     "metadata": {},
     "output_type": "display_data"
    },
    {
     "name": "stdout",
     "output_type": "stream",
     "text": [
      "기사 제목: '부산 최대어' 분담금만 9억?…\"거의 집 한채 값\" 전국이 비명\n",
      "기사 링크:https://news.nate.com/view/20250409n01232?mid=n0300\n"
     ]
    }
   ],
   "source": [
    "import requests\n",
    "from bs4 import BeautifulSoup\n",
    "from urllib.parse import urljoin\n",
    "from IPython.display import Image, display\n",
    "\n",
    "section_dict = {\n",
    "    '최신뉴스': 'recent?mid=n0100',\n",
    "    '정치': 'section?mid=n0200',\n",
    "    '경제': 'section?mid=n0300',\n",
    "    '사회': 'section?mid=n0400',\n",
    "    '세계': 'section?mid=n0500',\n",
    "    'IT/과학': 'section?mid=n0600',\n",
    "}\n",
    "\n",
    "def display_image_from_url(img_url):\n",
    "    try:\n",
    "        response = requests.get(img_url, stream=True)\n",
    "        if response.ok:\n",
    "            image = Image(response.content)\n",
    "            display(image)\n",
    "        else:\n",
    "            print(\"이미지를 가져오는 데 실패했습니다:\", img_url)\n",
    "    except Exception as e:\n",
    "        print(\"이미지를 로드하는 도중 오류가 발생했습니다:\", e)\n",
    "\n",
    "\n",
    "\n",
    "def print_news(name):\n",
    "    section = section_dict.get(name)\n",
    "    if section is None:\n",
    "        print('요청하신 Key가 없습니다.')\n",
    "    else:\n",
    "        url = f\"https://news.nate.com/{section}\"\n",
    "        print(f'=====> {url} {name} 뉴스 <=====')\n",
    "        \n",
    "        req_header = {\n",
    "            'user-agent' : 'Mozilla/5.0 (Windows NT 10.0; Win64; x64) AppleWebKit/537.36 (KHTML, like Gecko) Chrome/135.0.0.0 Safari/537.36'\n",
    "        }\n",
    "\n",
    "        res = requests.get(url, headers=req_header)\n",
    "        \n",
    "        if res.ok:\n",
    "            html = res.text\n",
    "            soup = BeautifulSoup(html, 'html.parser')\n",
    "            div_tag_list = soup.select(\"div.mlt01\")\n",
    "            #print(len(div_tag_list))\n",
    "            for div_tag in div_tag_list:\n",
    "                base_url = \"https:\"\n",
    "                \n",
    "                img_tag = div_tag.find('img')\n",
    "                if img_tag and 'src' in img_tag.attrs:\n",
    "                    img_relative_link = img_tag['src']\n",
    "                    img_link = urljoin(base_url, img_relative_link)\n",
    "                    display_image_from_url(img_link)\n",
    "                else:\n",
    "                    print(\"이미지 url 없음\")\n",
    "                \n",
    "                \n",
    "                h2_tag = div_tag.select_one('div.mlt01 h2.tit')\n",
    "                if h2_tag:\n",
    "                    title = h2_tag.text.strip()\n",
    "                    print(f\"기사 제목: {title}\")\n",
    "                else:\n",
    "                    print(\"기사 제목: 없음\")\n",
    "                \n",
    "                a_tag = div_tag.find('a')\n",
    "                if a_tag and 'href' in a_tag.attrs:\n",
    "                    a_relative_link = a_tag['href']\n",
    "                    a_link = urljoin(base_url, a_relative_link)\n",
    "                    print(f\"기사 링크:{a_link}\")\n",
    "                else:\n",
    "                    print(\"기사 링크: 없음\")\n",
    "                \n",
    "        else:\n",
    "            print(f'Error code = {res.status_code}')\n",
    "            \n",
    "print_news('경제')"
   ]
  },
  {
   "cell_type": "markdown",
   "id": "2bf626b7",
   "metadata": {},
   "source": [
    "### 2-2 하나의 네이버 웹툰과 1개의 회차에 대한 Image 다운로드 하기"
   ]
  },
  {
   "cell_type": "code",
   "execution_count": null,
   "id": "73fefd78",
   "metadata": {},
   "outputs": [],
   "source": [
    "import requests\n",
    "from bs4 import BeautifulSoup\n",
    "import os\n",
    "\n",
    "def download_one_episode(title,no,url):\n",
    "    if url is None:\n",
    "        print('요청하신 이미지가 없습니다.')\n",
    "    else:\n",
    "        req_header = {\n",
    "            'referer': url\n",
    "        }\n",
    "        res = requests.get(url)\n",
    "        \n",
    "        if res.ok:\n",
    "            soup = BeautifulSoup(res.text, 'html.parser')\n",
    "            \n",
    "            img_tags = soup.select(\"img[src*='IMAG01']\")\n",
    "            \n",
    "            img_url_list = list()\n",
    "            for img_tag in img_tags:\n",
    "                img_src = img_tag['src']\n",
    "                img_url_list.append(img_src)\n",
    "            \n",
    "            imgdir_name = os.path.join('img',title,no)\n",
    "            if not os.path.exists(imgdir_name):\n",
    "                os.makedirs(imgdir_name)\n",
    "            \n",
    "            for img_url in img_url_list:\n",
    "                res = requests.get(img_url, headers=req_header)\n",
    "                if res.ok:\n",
    "                    img_data = res.content\n",
    "                    dir_name = os.path.join(imgdir_name, os.path.basename(img_url))\n",
    "                    with open(dir_name, '+wb') as file:\n",
    "                        file.write(img_data)\n",
    "                else:\n",
    "                    print(f'Error Code = {res.status_code}')\n",
    "        else:\n",
    "            print(f'Error Code = {res.status_code}')\n",
    "\n",
    "download_one_episode('낣이사는이야기','48','https://comic.naver.com/webtoon/detail?titleId=833255&no=48&week=tue')\n",
    "download_one_episode('낣이사는이야기','47','https://comic.naver.com/webtoon/detail?titleId=833255&no=47&week=tue')"
   ]
  }
 ],
 "metadata": {
  "kernelspec": {
   "display_name": "base",
   "language": "python",
   "name": "python3"
  },
  "language_info": {
   "codemirror_mode": {
    "name": "ipython",
    "version": 3
   },
   "file_extension": ".py",
   "mimetype": "text/x-python",
   "name": "python",
   "nbconvert_exporter": "python",
   "pygments_lexer": "ipython3",
   "version": "3.12.7"
  }
 },
 "nbformat": 4,
 "nbformat_minor": 5
}
