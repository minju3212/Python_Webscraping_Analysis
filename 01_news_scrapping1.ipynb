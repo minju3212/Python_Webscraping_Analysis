{
 "cells": [
  {
   "cell_type": "code",
   "execution_count": null,
   "id": "bab3c627",
   "metadata": {},
   "outputs": [],
   "source": [
    "import requests\n",
    "import bs4\n",
    "from bs4 import BeautifulSoup\n",
    "\n",
    "url = 'https://news.daum.net/economy'\n",
    "print(url)\n",
    "\n",
    "req_header = {\n",
    "    'user-agent' : 'Mozilla/5.0 (Windows NT 10.0; Win64; x64) AppleWebKit/537.36 (KHTML, like Gecko) Chrome/135.0.0.0 Safari/537.36'\n",
    "}\n",
    "\n",
    "res = requests.get(url, headers=req_header)\n",
    "res.encoding = 'utf-8'\n",
    "print(type(res))\n",
    "print(res.status_code)\n",
    "\n",
    "if res.ok:\n",
    "    html = res.text\n",
    "    soup = BeautifulSoup(html, 'html.parser')\n",
    "    li_tag_list = soup.select(\"ul.list_newsheadline2 li\")\n",
    "    print(type(li_tag_list))\n",
    "    for li_tag in li_tag_list:\n",
    "        a_tag = li_tag.find('a')\n",
    "        link = a_tag['href']\n",
    "        print(link)\n",
    "        \n",
    "        # select() => ResultSet, select_one() => Tag\n",
    "        strong_tag = li_tag.select_one('div.cont_thumb strong.tit_txt')\n",
    "        # 위의 방법이 안된다면 밑의 방법도 가능능\n",
    "        # strong_tags = li_tag.select('div.cont_thumb strong.tit_txt')\n",
    "        # if strong_tags:\n",
    "        #     strong_tag = strong_tags[0]\n",
    "            \n",
    "        title = strong_tag.text.strip()\n",
    "        print(title)\n",
    "    \n",
    "else:\n",
    "    print(f'Error code = {res.status_code}')"
   ]
  }
 ],
 "metadata": {
  "kernelspec": {
   "display_name": "base",
   "language": "python",
   "name": "python3"
  },
  "language_info": {
   "name": "python",
   "version": "3.12.7"
  }
 },
 "nbformat": 4,
 "nbformat_minor": 5
}
