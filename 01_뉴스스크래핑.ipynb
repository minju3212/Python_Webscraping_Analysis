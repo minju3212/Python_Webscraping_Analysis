{
 "cells": [
  {
   "cell_type": "markdown",
   "id": "eb0bfa44",
   "metadata": {},
   "source": [
    "## 1-1. Daum 뉴스제목 가져오기\n",
    "* user-agent 요청헤더를 반드시 설정해야 한다."
   ]
  },
  {
   "cell_type": "code",
   "execution_count": null,
   "id": "bf80a429",
   "metadata": {},
   "outputs": [],
   "source": [
    "import requests\n",
    "from bs4 import BeautifulSoup\n",
    "\n",
    "# 다음 경제 뉴스 URL\n",
    "url = 'https://news.daum.net/economy'\n",
    "\n",
    "print(url)\n",
    "\n",
    "# 요청 헤더\n",
    "req_header = {\n",
    "    'user-agent': 'Mozilla/5.0 (Windows NT 10.0; Win64; x64) AppleWebKit/537.36 (KHTML, like Gecko) Chrome/104.0.0.0 Safari/537.36'\n",
    "}\n",
    "\n",
    "res = requests.get(url, headers=req_header)\n",
    "print(type(res))\n",
    "print(res.status_code)\n",
    "\n",
    "# 정상 응답 여부 확인\n",
    "if res.ok:\n",
    "    res.encoding = 'utf-8' \n",
    "    html = res.text\n",
    "    soup = BeautifulSoup(html, 'html.parser')\n",
    "    \n",
    "    # 기사 제목과 링크 추출\n",
    "    li_tag_list = soup.select('ul.list_newsheadline2 li')\n",
    "\n",
    "    print(type(li_tag_list), len(li_tag_list))\n",
    "\n",
    "    for li_tag in li_tag_list:        \n",
    "        a_tag = li_tag.find('a')\n",
    "        print(a_tag['href'])\n",
    "        \n",
    "        strong_tag = li_tag.select('div.cont_thumb strong.tit_txt')[0]\n",
    "        #li_tag.select_one('div.cont_thumb strong.tit_txt')\n",
    "        title = strong_tag.text.strip()\n",
    "        print(title)\n",
    "\n",
    "\n",
    "else:\n",
    "    print(f'에러코드 = {res.status_code}')\n",
    "\n"
   ]
  },
  {
   "cell_type": "code",
   "execution_count": null,
   "id": "9788d6ac",
   "metadata": {},
   "outputs": [],
   "source": [
    "section_dict = {'기후/환경':'climate','사회':'society','경제':'economy','정치':'politics',\\\n",
    "                '국재':'world','문화':'culture','생활':'life','IT/과학':'tech','인물':'people'}\n",
    "section_dict"
   ]
  },
  {
   "cell_type": "markdown",
   "id": "ccb91def-cde3-4aeb-b0e5-2e7233500333",
   "metadata": {},
   "source": [
    "## 1-2. Daum 뉴스제목 \n",
    "* 함수로 선언하여 처리하기"
   ]
  },
  {
   "cell_type": "code",
   "execution_count": 26,
   "id": "94c12fd6",
   "metadata": {},
   "outputs": [],
   "source": [
    "import requests\n",
    "from bs4 import BeautifulSoup\n",
    "\n",
    "def print_news(section_name):    \n",
    "    section = section_dict[section_name]\n",
    "    # 요청 Parameter\n",
    "    req_param = {\n",
    "        'section': section\n",
    "    }\n",
    "    url = 'https://news.daum.net/{section}'.format(**req_param)\n",
    "    \n",
    "    print(f'======> {url} {section_name} 뉴스 <======')\n",
    "    \n",
    "    # 요청 헤더 설정 : 브라우저 정보\n",
    "    req_header = {\n",
    "        'user-agent': 'Mozilla/5.0 (Windows NT 10.0; Win64; x64) AppleWebKit/537.36 (KHTML, like Gecko) Chrome/104.0.0.0 Safari/537.36'\n",
    "    }\n",
    "\n",
    "    res = requests.get(url, headers=req_header)   \n",
    "\n",
    "    if res.ok:\n",
    "        res.encoding = 'utf-8' \n",
    "        html = res.text\n",
    "        soup = BeautifulSoup(html, 'html.parser')\n",
    "        \n",
    "        # 기사 제목과 링크 추출\n",
    "        li_tag_list = soup.select('ul.list_newsheadline2 li')\n",
    "\n",
    "        #print(type(li_tag_list), len(li_tag_list))\n",
    "\n",
    "        for li_tag in li_tag_list:        \n",
    "            a_tag = li_tag.find('a')\n",
    "            print(a_tag['href'])\n",
    "            \n",
    "            strong_tag = li_tag.select_one('div.cont_thumb strong.tit_txt')\n",
    "            title = strong_tag.text.strip()\n",
    "            print(title)\n",
    "\n",
    "\n",
    "    else:\n",
    "        print(f'에러코드 = {res.status_code}')\n"
   ]
  },
  {
   "cell_type": "code",
   "execution_count": null,
   "id": "4fa3ef3c",
   "metadata": {},
   "outputs": [],
   "source": [
    "print_news('경제')"
   ]
  },
  {
   "cell_type": "code",
   "execution_count": null,
   "id": "fdb81c0c",
   "metadata": {},
   "outputs": [],
   "source": [
    "print_news('인물')"
   ]
  },
  {
   "cell_type": "markdown",
   "id": "45640860-a449-4285-90d7-5f300292b461",
   "metadata": {},
   "source": [
    "### 2-1 nate 최신뉴스 추출하기"
   ]
  },
  {
   "cell_type": "code",
   "execution_count": null,
   "id": "b30f7bf5",
   "metadata": {},
   "outputs": [],
   "source": [
    "import requests\n",
    "from bs4 import BeautifulSoup\n",
    "from urllib.parse import urljoin\n",
    "from IPython.display import Image, display\n",
    "\n",
    "url = 'https://news.nate.com/recent?mid=n0100'\n",
    "print(url)\n",
    "\n",
    "req_header = {\n",
    "    'user-agent': 'Mozilla/5.0 (Windows NT 10.0; Win64; x64) AppleWebKit/537.36 (KHTML, like Gecko) Chrome/104.0.0.0 Safari/537.36'\n",
    "}\n",
    "\n",
    "res = requests.get(url, headers=req_header)\n",
    "print(type(res))\n",
    "print(res.status_code)\n",
    "\n",
    "if res.ok:\n",
    "    res.encoding = 'euc-kr'\n",
    "    html = res.text\n",
    "    soup = BeautifulSoup(html, 'html.parser')\n",
    "    \n",
    "    tags = soup.select(\"div.postListType.noListTitle div.mlt01\")\n",
    "    print(len(tags))\n",
    "\n",
    "    for idx,div_tag in enumerate(tags,1): \n",
    "        print(f'============>> {idx}')       \n",
    "        a_tag = div_tag.find('a')\n",
    "        a_join_url = urljoin(url,a_tag['href'])\n",
    "        print(a_join_url)\n",
    "\n",
    "        img_tag = div_tag.select_one('span.ib img')\n",
    "        if img_tag:\n",
    "            photo_url = urljoin(url,img_tag['src'])\n",
    "            print(photo_url)\n",
    "            display(Image(url=photo_url))\n",
    "\n",
    "        h2_tag = div_tag.select_one('span.tb h2.tit')\n",
    "        title = h2_tag.text\n",
    "        print(title)\n",
    "\n",
    "else:\n",
    "    print(f'에러코드 = {res.status_code}')\n"
   ]
  },
  {
   "cell_type": "markdown",
   "id": "1d027530",
   "metadata": {},
   "source": [
    "## 2-2. Nate 뉴스제목과 Image 출력하기\n",
    "* 함수로 선언하여 처리하기"
   ]
  },
  {
   "cell_type": "code",
   "execution_count": 1,
   "id": "b20accc4",
   "metadata": {},
   "outputs": [
    {
     "name": "stdout",
     "output_type": "stream",
     "text": [
      "{'최신뉴스': 'n0100', '정치': 'n0200', '경제': 'n0300', '사회': 'n0400', '세계': 'n0500', 'IT/과학': 'n0600'}\n",
      "https://news.nate.com/recent?mid=n0600\n",
      "<class 'requests.models.Response'>\n",
      "200\n",
      "======> https://news.nate.com/recent?mid=n0600 IT/과학 뉴스 <======\n",
      "20\n",
      "============>> 1\n",
      "https://news.nate.com/view/20250410n09012?mid=n0600\n",
      "https://thumbnews.nateimg.co.kr/news90///news.nateimg.co.kr/orgImg/hn/2025/04/10/20250410500661.jpg\n"
     ]
    },
    {
     "data": {
      "text/html": [
       "<img src=\"https://thumbnews.nateimg.co.kr/news90///news.nateimg.co.kr/orgImg/hn/2025/04/10/20250410500661.jpg\"/>"
      ],
      "text/plain": [
       "<IPython.core.display.Image object>"
      ]
     },
     "metadata": {},
     "output_type": "display_data"
    },
    {
     "name": "stdout",
     "output_type": "stream",
     "text": [
      "구강 건강이 뇌 건강…입안 미생물 따라 인지력 달라져\n",
      "============>> 2\n",
      "https://news.nate.com/view/20250410n08986?mid=n0600\n",
      "https://thumbnews.nateimg.co.kr/news90///news.nateimg.co.kr/orgImg/yt/2025/04/10/AKR20250410050100003_01_i.jpg\n"
     ]
    },
    {
     "data": {
      "text/html": [
       "<img src=\"https://thumbnews.nateimg.co.kr/news90///news.nateimg.co.kr/orgImg/yt/2025/04/10/AKR20250410050100003_01_i.jpg\"/>"
      ],
      "text/plain": [
       "<IPython.core.display.Image object>"
      ]
     },
     "metadata": {},
     "output_type": "display_data"
    },
    {
     "name": "stdout",
     "output_type": "stream",
     "text": [
      "'트럼프 25% 관세 대응'…산업부, 반도체 경쟁력 강화 지원\n",
      "============>> 3\n",
      "https://news.nate.com/view/20250410n08984?mid=n0600\n",
      "https://thumbnews.nateimg.co.kr/news90///news.nateimg.co.kr/orgImg/yt/2025/04/10/AKR20250410051700017_01_i.jpg\n"
     ]
    },
    {
     "data": {
      "text/html": [
       "<img src=\"https://thumbnews.nateimg.co.kr/news90///news.nateimg.co.kr/orgImg/yt/2025/04/10/AKR20250410051700017_01_i.jpg\"/>"
      ],
      "text/plain": [
       "<IPython.core.display.Image object>"
      ]
     },
     "metadata": {},
     "output_type": "display_data"
    },
    {
     "name": "stdout",
     "output_type": "stream",
     "text": [
      "[게시판] 대웅제약, ISO 정보 보호 표준 2종 획득\n",
      "============>> 4\n",
      "https://news.nate.com/view/20250410n08899?mid=n0600\n",
      "https://thumbnews.nateimg.co.kr/news90///news.nateimg.co.kr/orgImg/cz/2025/04/10/cz_1744245196496_973271_0.jpg\n"
     ]
    },
    {
     "data": {
      "text/html": [
       "<img src=\"https://thumbnews.nateimg.co.kr/news90///news.nateimg.co.kr/orgImg/cz/2025/04/10/cz_1744245196496_973271_0.jpg\"/>"
      ],
      "text/plain": [
       "<IPython.core.display.Image object>"
      ]
     },
     "metadata": {},
     "output_type": "display_data"
    },
    {
     "name": "stdout",
     "output_type": "stream",
     "text": [
      "돌비, 美 AMC와 파트너십 확대…2027년까지 돌비 시네마 40개 추가 개관\n",
      "============>> 5\n",
      "https://news.nate.com/view/20250410n08817?mid=n0600\n",
      "https://thumbnews.nateimg.co.kr/news90///news.nateimg.co.kr/orgImg/yt/2025/04/10/AKR20250410048300017_01_i.jpg\n"
     ]
    },
    {
     "data": {
      "text/html": [
       "<img src=\"https://thumbnews.nateimg.co.kr/news90///news.nateimg.co.kr/orgImg/yt/2025/04/10/AKR20250410048300017_01_i.jpg\"/>"
      ],
      "text/plain": [
       "<IPython.core.display.Image object>"
      ]
     },
     "metadata": {},
     "output_type": "display_data"
    },
    {
     "name": "stdout",
     "output_type": "stream",
     "text": [
      "[게시판] 광동제약, 뉴질랜드와 녹용 산업 협력 강화\n",
      "============>> 6\n",
      "https://news.nate.com/view/20250410n08757?mid=n0600\n",
      "https://thumbnews.nateimg.co.kr/news90///news.nateimg.co.kr/orgImg/ed/2025/04/10/PS25040900209.jpg\n"
     ]
    },
    {
     "data": {
      "text/html": [
       "<img src=\"https://thumbnews.nateimg.co.kr/news90///news.nateimg.co.kr/orgImg/ed/2025/04/10/PS25040900209.jpg\"/>"
      ],
      "text/plain": [
       "<IPython.core.display.Image object>"
      ]
     },
     "metadata": {},
     "output_type": "display_data"
    },
    {
     "name": "stdout",
     "output_type": "stream",
     "text": [
      "렉라자 병용 데이터 본 아스트라제네카, 대응책은\n",
      "============>> 7\n",
      "https://news.nate.com/view/20250410n08737?mid=n0600\n",
      "https://thumbnews.nateimg.co.kr/news90///news.nateimg.co.kr/orgImg/mk/2025/04/10/news-p.v1.20250410.16e01b9620cd4d1b9a9efd66c818e393_P1.jpg\n"
     ]
    },
    {
     "data": {
      "text/html": [
       "<img src=\"https://thumbnews.nateimg.co.kr/news90///news.nateimg.co.kr/orgImg/mk/2025/04/10/news-p.v1.20250410.16e01b9620cd4d1b9a9efd66c818e393_P1.jpg\"/>"
      ],
      "text/plain": [
       "<IPython.core.display.Image object>"
      ]
     },
     "metadata": {},
     "output_type": "display_data"
    },
    {
     "name": "stdout",
     "output_type": "stream",
     "text": [
      "넷마블, '레이븐2' 대회 이벤트 '레이븐2 길드 챔피언십' 26일 개최\n",
      "============>> 8\n",
      "https://news.nate.com/view/20250410n08730?mid=n0600\n",
      "https://thumbnews.nateimg.co.kr/news90///news.nateimg.co.kr/orgImg/ed/2025/04/10/PS25040300473.jpg\n"
     ]
    },
    {
     "data": {
      "text/html": [
       "<img src=\"https://thumbnews.nateimg.co.kr/news90///news.nateimg.co.kr/orgImg/ed/2025/04/10/PS25040300473.jpg\"/>"
      ],
      "text/plain": [
       "<IPython.core.display.Image object>"
      ]
     },
     "metadata": {},
     "output_type": "display_data"
    },
    {
     "name": "stdout",
     "output_type": "stream",
     "text": [
      "한상덕 제네웰 대표 \"사업다각화로 2030년 수출 200억 달성\"\n",
      "============>> 9\n",
      "https://news.nate.com/view/20250410n08717?mid=n0600\n",
      "https://thumbnews.nateimg.co.kr/news90///news.nateimg.co.kr/orgImg/ed/2025/04/10/PS25041000418.jpg\n"
     ]
    },
    {
     "data": {
      "text/html": [
       "<img src=\"https://thumbnews.nateimg.co.kr/news90///news.nateimg.co.kr/orgImg/ed/2025/04/10/PS25041000418.jpg\"/>"
      ],
      "text/plain": [
       "<IPython.core.display.Image object>"
      ]
     },
     "metadata": {},
     "output_type": "display_data"
    },
    {
     "name": "stdout",
     "output_type": "stream",
     "text": [
      "듀켐바이오, 대만 기업에 PET 방사성의약품 기술이전\n",
      "============>> 10\n",
      "https://news.nate.com/view/20250410n08659?mid=n0600\n",
      "https://thumbnews.nateimg.co.kr/news90///news.nateimg.co.kr/orgImg/sh/2025/04/10/6894769_1135339_2935.jpg\n"
     ]
    },
    {
     "data": {
      "text/html": [
       "<img src=\"https://thumbnews.nateimg.co.kr/news90///news.nateimg.co.kr/orgImg/sh/2025/04/10/6894769_1135339_2935.jpg\"/>"
      ],
      "text/plain": [
       "<IPython.core.display.Image object>"
      ]
     },
     "metadata": {},
     "output_type": "display_data"
    },
    {
     "name": "stdout",
     "output_type": "stream",
     "text": [
      "넷마블, '레이븐2 길드 챔피언십' 오는 26일 국내 개최\n",
      "============>> 11\n",
      "https://news.nate.com/view/20250410n08651?mid=n0600\n",
      "https://thumbnews.nateimg.co.kr/news90///news.nateimg.co.kr/orgImg/in/2025/04/10/d9cb18697fcfb5.jpg\n"
     ]
    },
    {
     "data": {
      "text/html": [
       "<img src=\"https://thumbnews.nateimg.co.kr/news90///news.nateimg.co.kr/orgImg/in/2025/04/10/d9cb18697fcfb5.jpg\"/>"
      ],
      "text/plain": [
       "<IPython.core.display.Image object>"
      ]
     },
     "metadata": {},
     "output_type": "display_data"
    },
    {
     "name": "stdout",
     "output_type": "stream",
     "text": [
      "디케이테크인 \"카톡 기반 CS '챗봇나우' 누적이용자 300만 돌파\"\n",
      "============>> 12\n",
      "https://news.nate.com/view/20250410n08635?mid=n0600\n",
      "https://thumbnews.nateimg.co.kr/news90///news.nateimg.co.kr/orgImg/in/2025/04/10/8278bdc379b539.jpg\n"
     ]
    },
    {
     "data": {
      "text/html": [
       "<img src=\"https://thumbnews.nateimg.co.kr/news90///news.nateimg.co.kr/orgImg/in/2025/04/10/8278bdc379b539.jpg\"/>"
      ],
      "text/plain": [
       "<IPython.core.display.Image object>"
      ]
     },
     "metadata": {},
     "output_type": "display_data"
    },
    {
     "name": "stdout",
     "output_type": "stream",
     "text": [
      "KT, 'AXcelerator TF' 출범…2030세대 주도 AI 실전 프로젝트 가동\n",
      "============>> 13\n",
      "https://news.nate.com/view/20250410n08625?mid=n0600\n",
      "https://thumbnews.nateimg.co.kr/news90///news.nateimg.co.kr/orgImg/cz/2025/04/10/cz_1744244945078_6244_0.jpg\n"
     ]
    },
    {
     "data": {
      "text/html": [
       "<img src=\"https://thumbnews.nateimg.co.kr/news90///news.nateimg.co.kr/orgImg/cz/2025/04/10/cz_1744244945078_6244_0.jpg\"/>"
      ],
      "text/plain": [
       "<IPython.core.display.Image object>"
      ]
     },
     "metadata": {},
     "output_type": "display_data"
    },
    {
     "name": "stdout",
     "output_type": "stream",
     "text": [
      "지질자원硏, 산불 뒤 산사태 위험도 예측 기술 개발\n",
      "============>> 14\n",
      "https://news.nate.com/view/20250410n08474?mid=n0600\n",
      "https://thumbnews.nateimg.co.kr/news90///news.nateimg.co.kr/orgImg/fr/2025/04/10/art_682903_1744244213.png\n"
     ]
    },
    {
     "data": {
      "text/html": [
       "<img src=\"https://thumbnews.nateimg.co.kr/news90///news.nateimg.co.kr/orgImg/fr/2025/04/10/art_682903_1744244213.png\"/>"
      ],
      "text/plain": [
       "<IPython.core.display.Image object>"
      ]
     },
     "metadata": {},
     "output_type": "display_data"
    },
    {
     "name": "stdout",
     "output_type": "stream",
     "text": [
      "디케이테크인, 카카오톡 기반 CS '챗봇나우' 이용자수 300만 돌파\n",
      "============>> 15\n",
      "https://news.nate.com/view/20250410n08468?mid=n0600\n",
      "https://thumbnews.nateimg.co.kr/news90///news.nateimg.co.kr/orgImg/fr/2025/04/10/art_682893_1744243474.jpg\n"
     ]
    },
    {
     "data": {
      "text/html": [
       "<img src=\"https://thumbnews.nateimg.co.kr/news90///news.nateimg.co.kr/orgImg/fr/2025/04/10/art_682893_1744243474.jpg\"/>"
      ],
      "text/plain": [
       "<IPython.core.display.Image object>"
      ]
     },
     "metadata": {},
     "output_type": "display_data"
    },
    {
     "name": "stdout",
     "output_type": "stream",
     "text": [
      "LG이노텍, 협력사와 상생 협력…동반성장펀드 1430억원 운영\n",
      "============>> 16\n",
      "https://news.nate.com/view/20250410n08441?mid=n0600\n",
      "https://thumbnews.nateimg.co.kr/news90///news.nateimg.co.kr/orgImg/sw/2025/04/10/20250410505340.jpg\n"
     ]
    },
    {
     "data": {
      "text/html": [
       "<img src=\"https://thumbnews.nateimg.co.kr/news90///news.nateimg.co.kr/orgImg/sw/2025/04/10/20250410505340.jpg\"/>"
      ],
      "text/plain": [
       "<IPython.core.display.Image object>"
      ]
     },
     "metadata": {},
     "output_type": "display_data"
    },
    {
     "name": "stdout",
     "output_type": "stream",
     "text": [
      "'레이븐2 길드 챔피언십' 26일 개최…4주간 기념 이벤트까지\n",
      "============>> 17\n",
      "https://news.nate.com/view/20250410n08387?mid=n0600\n",
      "https://thumbnews.nateimg.co.kr/news90///news.nateimg.co.kr/orgImg/fr/2025/04/10/art_682885_1744242258.jpg\n"
     ]
    },
    {
     "data": {
      "text/html": [
       "<img src=\"https://thumbnews.nateimg.co.kr/news90///news.nateimg.co.kr/orgImg/fr/2025/04/10/art_682885_1744242258.jpg\"/>"
      ],
      "text/plain": [
       "<IPython.core.display.Image object>"
      ]
     },
     "metadata": {},
     "output_type": "display_data"
    },
    {
     "name": "stdout",
     "output_type": "stream",
     "text": [
      "삼성전자 \"1분기 가정용 에어컨 판매량 전년比 50% 증가\"\n",
      "============>> 18\n",
      "https://news.nate.com/view/20250410n07044?mid=n0600\n",
      "https://thumbnews.nateimg.co.kr/news90///news.nateimg.co.kr/orgImg/hr/2025/04/10/news-p.v1.20250410.0d1bd078dfd64fffb6ad7fc36a6152d8_P1.jpg\n"
     ]
    },
    {
     "data": {
      "text/html": [
       "<img src=\"https://thumbnews.nateimg.co.kr/news90///news.nateimg.co.kr/orgImg/hr/2025/04/10/news-p.v1.20250410.0d1bd078dfd64fffb6ad7fc36a6152d8_P1.jpg\"/>"
      ],
      "text/plain": [
       "<IPython.core.display.Image object>"
      ]
     },
     "metadata": {},
     "output_type": "display_data"
    },
    {
     "name": "stdout",
     "output_type": "stream",
     "text": [
      "카이스트 '큰형님' 자처한 서정진 \"함께 전 세계 시장을 두들겨봅시다\"\n",
      "============>> 19\n",
      "https://news.nate.com/view/20250410n08360?mid=n0600\n",
      "https://thumbnews.nateimg.co.kr/news90///news.nateimg.co.kr/orgImg/at/2025/04/10/2025041001001003100059301.jpg\n"
     ]
    },
    {
     "data": {
      "text/html": [
       "<img src=\"https://thumbnews.nateimg.co.kr/news90///news.nateimg.co.kr/orgImg/at/2025/04/10/2025041001001003100059301.jpg\"/>"
      ],
      "text/plain": [
       "<IPython.core.display.Image object>"
      ]
     },
     "metadata": {},
     "output_type": "display_data"
    },
    {
     "name": "stdout",
     "output_type": "stream",
     "text": [
      "KT, AI 기술로 통신 데이터 분석…고객 불편 최소화\n",
      "============>> 20\n",
      "https://news.nate.com/view/20250410n08355?mid=n0600\n",
      "https://thumbnews.nateimg.co.kr/news90///news.nateimg.co.kr/orgImg/yt/2025/04/10/AKR20250410045400017_01_i.jpg\n"
     ]
    },
    {
     "data": {
      "text/html": [
       "<img src=\"https://thumbnews.nateimg.co.kr/news90///news.nateimg.co.kr/orgImg/yt/2025/04/10/AKR20250410045400017_01_i.jpg\"/>"
      ],
      "text/plain": [
       "<IPython.core.display.Image object>"
      ]
     },
     "metadata": {},
     "output_type": "display_data"
    },
    {
     "name": "stdout",
     "output_type": "stream",
     "text": [
      "동아에스티, 에티오피아에 전문의약품 기부\n"
     ]
    }
   ],
   "source": [
    "import requests\n",
    "from bs4 import BeautifulSoup\n",
    "from urllib.parse import urljoin\n",
    "from IPython.display import Image, display\n",
    "\n",
    "section_dict = {'최신뉴스':'n0100','정치':'n0200','경제':'n0300','사회':'n0400',\\\n",
    "                '세계':'n0500','IT/과학':'n0600'}\n",
    "print(section_dict)\n",
    "\n",
    "def print_news(section_name):    \n",
    "    m_id = section_dict[section_name]\n",
    "\n",
    "    url = f'https://news.nate.com/recent?mid={m_id}'\n",
    "    print(url)\n",
    "\n",
    "    req_header = {\n",
    "        'user-agent': 'Mozilla/5.0 (Windows NT 10.0; Win64; x64) AppleWebKit/537.36 (KHTML, like Gecko) Chrome/104.0.0.0 Safari/537.36'\n",
    "    }\n",
    "\n",
    "    res = requests.get(url, headers=req_header)\n",
    "    print(type(res))\n",
    "    print(res.status_code)\n",
    "\n",
    "    if res.ok:\n",
    "        res.encoding = 'euc-kr'\n",
    "        html = res.text\n",
    "        soup = BeautifulSoup(html, 'html.parser')\n",
    "\n",
    "        print(f'======> {url} {section_name} 뉴스 <======')   \n",
    "\n",
    "        tags = soup.select(\"div.postListType.noListTitle div.mlt01\")\n",
    "        print(len(tags))\n",
    "\n",
    "        for idx,div_tag in enumerate(tags,1): \n",
    "            print(f'============>> {idx}')       \n",
    "            a_tag = div_tag.find('a')\n",
    "            a_join_url = urljoin(url,a_tag['href'])\n",
    "            print(a_join_url)\n",
    "\n",
    "            img_tag = div_tag.select_one('span.ib img')\n",
    "            if img_tag:\n",
    "                photo_url = urljoin(url,img_tag['src'])\n",
    "                print(photo_url)\n",
    "                display(Image(url=photo_url))\n",
    "\n",
    "            h2_tag = div_tag.select_one('span.tb h2.tit')\n",
    "            title = h2_tag.text\n",
    "            print(title)\n",
    "\n",
    "    else:\n",
    "        print(f'에러코드 = {res.status_code}')\n",
    "\n",
    "print_news('IT/과학')"
   ]
  }
 ],
 "metadata": {
  "kernelspec": {
   "display_name": "base",
   "language": "python",
   "name": "python3"
  },
  "language_info": {
   "codemirror_mode": {
    "name": "ipython",
    "version": 3
   },
   "file_extension": ".py",
   "mimetype": "text/x-python",
   "name": "python",
   "nbconvert_exporter": "python",
   "pygments_lexer": "ipython3",
   "version": "3.12.7"
  }
 },
 "nbformat": 4,
 "nbformat_minor": 5
}
