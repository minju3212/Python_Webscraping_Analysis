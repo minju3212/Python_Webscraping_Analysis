{
 "cells": [
  {
   "cell_type": "markdown",
   "id": "713f3e0b",
   "metadata": {},
   "source": [
    "### 3-1. 네이버 책 검색 API 호출하기"
   ]
  },
  {
   "cell_type": "code",
   "execution_count": 6,
   "id": "a2b68c61",
   "metadata": {},
   "outputs": [],
   "source": [
    "import requests\n",
    "import os\n",
    "from dotenv import load_dotenv\n",
    "import pprint\n",
    "import json\n",
    "\n",
    "# .env 파일에서 환경 변수 로드\n",
    "load_dotenv()\n",
    "\n",
    "# 환경 변수에서 값 읽기\n",
    "client_id = os.getenv(\"NAVER_CLIENT_ID\")  # .env 파일의 NAVER_CLIENT_ID\n",
    "client_secret = os.getenv(\"NAVER_CLIENT_SECRET\")  # .env 파일의 NAVER_CLIENT_SECRET\n",
    "\n",
    "headers = {\n",
    "    'X-Naver-Client-Id': client_id,\n",
    "    'X-Naver-Client-Secret': client_secret,\n",
    "}\n",
    "\n",
    "def search_books(query):\n",
    "    # query string 문자열을 dict로 선언\n",
    "    payload = {\n",
    "        'query': query, #'파이썬',\n",
    "        'display': 50,\n",
    "        'sort': 'sim'\n",
    "    }\n",
    "\n",
    "    url = 'https://openapi.naver.com/v1/search/book.json'\n",
    "    \n",
    "    # requests get(url,params,headers) 요청\n",
    "    res = requests.get(url, params=payload, headers=headers)\n",
    "    \n",
    "    # json() 함수로 응답 결과 가져오기\n",
    "    items_data = res.json()['items']\n",
    "    \n",
    "    # 'title' , 'link' , 'description' , 'bloggerlink' , 'link'\n",
    "    items_list = list()\n",
    "    item_list = []\n",
    "    for item in items_data:\n",
    "        item_list = [\n",
    "            item['title'],\n",
    "            item['link'],\n",
    "            item['image'],\n",
    "            item['author'],\n",
    "            item['discount'],\n",
    "            item['publisher'],\n",
    "            item['pubdate'],\n",
    "            item['isbn'],\n",
    "            item['description']\n",
    "        ]\n",
    "        items_list.append(item_list)\n",
    "        item_list = []\n",
    "    return items_list"
   ]
  },
  {
   "cell_type": "code",
   "execution_count": 7,
   "id": "46b09204",
   "metadata": {},
   "outputs": [],
   "source": [
    "books_json = search_books('파이썬')\n",
    "\n",
    "with open('data/books.json','w',encoding='utf-8') as file:\n",
    "    json.dump(books_json, file)"
   ]
  }
 ],
 "metadata": {
  "kernelspec": {
   "display_name": "base",
   "language": "python",
   "name": "python3"
  },
  "language_info": {
   "codemirror_mode": {
    "name": "ipython",
    "version": 3
   },
   "file_extension": ".py",
   "mimetype": "text/x-python",
   "name": "python",
   "nbconvert_exporter": "python",
   "pygments_lexer": "ipython3",
   "version": "3.12.7"
  }
 },
 "nbformat": 4,
 "nbformat_minor": 5
}
